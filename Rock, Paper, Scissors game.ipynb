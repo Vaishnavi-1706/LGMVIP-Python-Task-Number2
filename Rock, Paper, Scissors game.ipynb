{
 "cells": [
  {
   "cell_type": "code",
   "execution_count": 4,
   "id": "501f7a9d",
   "metadata": {},
   "outputs": [],
   "source": [
    "import tkinter as tk\n",
    "from random import choice\n",
    "\n",
    "def winner(player, computer):\n",
    "    if player == computer:\n",
    "        return \"It's a tie!\"\n",
    "    elif ((player == \"rock\" and computer == \"scissors\") or  (player == \"scissors\" and computer == \"paper\") or (player == \"paper\" and computer == \"rock\")):\n",
    "        return \"You win!\"\n",
    "    else:\n",
    "        return \"You lose!\"\n",
    "\n",
    "def play(player_choice):\n",
    "    computer_choice = choice([\"rock\", \"paper\", \"scissors\"])\n",
    "    result = winner(player_choice, computer_choice)\n",
    "    result_label.config(text=f\"Computer chose: {computer_choice}\\n{result}\")\n",
    "    \n",
    "root = tk.Tk()\n",
    "root.title(\"Rock, Paper, Scissors Game\")\n",
    "\n",
    "instructions_label = tk.Label(root, text=\"Choose Rock, Paper, or Scissors:\", font=('Times New Roman', 18))\n",
    "instructions_label.pack()\n",
    "\n",
    "result_label = tk.Label(root, text=\"\", font=('Times New Roman', 14))\n",
    "result_label.pack()\n",
    "\n",
    "rock_button = tk.Button(root, text=\"Rock\", command=lambda: play(\"rock\"))\n",
    "rock_button.pack(side=tk.LEFT, padx=40, pady=40)\n",
    "\n",
    "paper_button = tk.Button(root, text=\"Paper\", command=lambda: play(\"paper\"))\n",
    "paper_button.pack(side=tk.LEFT, padx=40, pady=40)\n",
    "\n",
    "scissors_button = tk.Button(root, text=\"Scissors\", command=lambda: play(\"scissors\"))\n",
    "scissors_button.pack(side=tk.LEFT, padx=40, pady=40)\n",
    "\n",
    "root.mainloop()\n"
   ]
  },
  {
   "cell_type": "code",
   "execution_count": null,
   "id": "06241c16",
   "metadata": {},
   "outputs": [],
   "source": []
  }
 ],
 "metadata": {
  "kernelspec": {
   "display_name": "Python 3 (ipykernel)",
   "language": "python",
   "name": "python3"
  },
  "language_info": {
   "codemirror_mode": {
    "name": "ipython",
    "version": 3
   },
   "file_extension": ".py",
   "mimetype": "text/x-python",
   "name": "python",
   "nbconvert_exporter": "python",
   "pygments_lexer": "ipython3",
   "version": "3.11.3"
  }
 },
 "nbformat": 4,
 "nbformat_minor": 5
}
